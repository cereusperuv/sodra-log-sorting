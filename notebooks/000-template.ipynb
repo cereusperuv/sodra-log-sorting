{
 "cells": [
  {
   "cell_type": "markdown",
   "id": "hindu-replica",
   "metadata": {},
   "source": [
    "# Template notebook\n",
    "\n",
    "AAA"
   ]
  },
  {
   "cell_type": "markdown",
   "id": "choice-economy",
   "metadata": {},
   "source": [
    "## I. Libs & imports"
   ]
  },
  {
   "cell_type": "markdown",
   "id": "d4911f03",
   "metadata": {},
   "source": [
    "### A. Notebook imports"
   ]
  },
  {
   "cell_type": "code",
   "execution_count": 1,
   "id": "supposed-headquarters",
   "metadata": {},
   "outputs": [
    {
     "name": "stdout",
     "output_type": "stream",
     "text": [
      "Python       3.8.1\n",
      "Numpy        1.21.5\n",
      "Pandas       1.3.5\n",
      "Matplotlib   3.5.1\n"
     ]
    }
   ],
   "source": [
    "# Standard imports\n",
    "import datetime\n",
    "import importlib\n",
    "from pathlib import Path\n",
    "import os\n",
    "import sys\n",
    "from typing import Dict, List, Tuple\n",
    "import warnings\n",
    "\n",
    "# 3rd party imports\n",
    "import matplotlib as mpl\n",
    "import matplotlib.pyplot as plt\n",
    "import numpy as np\n",
    "import pandas as pd\n",
    "\n",
    "# Print out version numbers\n",
    "print('Python       ' + sys.version[0:5])\n",
    "print('Numpy        ' + np.__version__)\n",
    "print('Pandas       ' + pd.__version__)\n",
    "print('Matplotlib   ' + mpl.__version__)\n",
    "\n",
    "# Supress warnings\n",
    "warnings.filterwarnings('ignore')"
   ]
  },
  {
   "cell_type": "markdown",
   "id": "5b2b6761",
   "metadata": {},
   "source": [
    "### B. Libs"
   ]
  },
  {
   "cell_type": "code",
   "execution_count": 2,
   "id": "49b35731",
   "metadata": {},
   "outputs": [],
   "source": [
    "# Local libraries\n",
    "root_dir = Path.cwd().parent.resolve()\n",
    "data_dir = root_dir / \"data\"\n",
    "src_dir = root_dir / \"src\""
   ]
  },
  {
   "cell_type": "markdown",
   "id": "23d5c4f3",
   "metadata": {},
   "source": [
    "### C. Local imports"
   ]
  },
  {
   "cell_type": "code",
   "execution_count": 3,
   "id": "88e9cbc3",
   "metadata": {},
   "outputs": [],
   "source": [
    "# Append src folder to path\n",
    "sys.path.append(str(src_dir))\n",
    "\n",
    "# Local imports\n",
    "#import flight_tower\n",
    "#importlib.reload(sys.modules['flight_tower'])\n",
    "\n",
    "# Import the functions\n",
    "#from flight_tower import (\n",
    "#    clean_and_merge_datasets,\n",
    "#)"
   ]
  },
  {
   "cell_type": "markdown",
   "id": "dacf15ba",
   "metadata": {},
   "source": [
    "## II. Utils"
   ]
  },
  {
   "cell_type": "markdown",
   "id": "f6d9f779",
   "metadata": {},
   "source": [
    "### A. Constants"
   ]
  },
  {
   "cell_type": "code",
   "execution_count": 4,
   "id": "b06bb72b",
   "metadata": {},
   "outputs": [],
   "source": [
    "# Define constants here"
   ]
  },
  {
   "cell_type": "markdown",
   "id": "a5b17816",
   "metadata": {},
   "source": [
    "### B. Functions"
   ]
  },
  {
   "cell_type": "code",
   "execution_count": 5,
   "id": "f42a404c",
   "metadata": {},
   "outputs": [],
   "source": [
    "# Define utility functions here"
   ]
  },
  {
   "cell_type": "markdown",
   "id": "8b6509d3",
   "metadata": {},
   "source": [
    "## III. Data load"
   ]
  },
  {
   "cell_type": "code",
   "execution_count": 6,
   "id": "d6afbb67",
   "metadata": {},
   "outputs": [],
   "source": [
    "# Load data here"
   ]
  },
  {
   "cell_type": "markdown",
   "id": "a39bcfaa",
   "metadata": {},
   "source": [
    "## IV. Code"
   ]
  },
  {
   "cell_type": "code",
   "execution_count": 7,
   "id": "6f0ef7d7",
   "metadata": {},
   "outputs": [],
   "source": [
    "# Program here"
   ]
  },
  {
   "cell_type": "code",
   "execution_count": null,
   "id": "afb6a233",
   "metadata": {},
   "outputs": [],
   "source": []
  }
 ],
 "metadata": {
  "kernelspec": {
   "display_name": "Python 3 (ipykernel)",
   "language": "python",
   "name": "python3"
  },
  "language_info": {
   "codemirror_mode": {
    "name": "ipython",
    "version": 3
   },
   "file_extension": ".py",
   "mimetype": "text/x-python",
   "name": "python",
   "nbconvert_exporter": "python",
   "pygments_lexer": "ipython3",
   "version": "3.8.14"
  }
 },
 "nbformat": 4,
 "nbformat_minor": 5
}
