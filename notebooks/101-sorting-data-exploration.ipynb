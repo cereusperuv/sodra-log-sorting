{
 "cells": [
  {
   "cell_type": "markdown",
   "id": "hindu-replica",
   "metadata": {},
   "source": [
    "# Data exploration - sorting data\n",
    "\n",
    "AAA\n",
    "\n",
    "**Version log**\n",
    "\n",
    "- Created by Robert Nyqvist 2022-12-13"
   ]
  },
  {
   "cell_type": "markdown",
   "id": "choice-economy",
   "metadata": {},
   "source": [
    "## I. Libs & imports"
   ]
  },
  {
   "cell_type": "markdown",
   "id": "d4911f03",
   "metadata": {},
   "source": [
    "### A. Notebook imports"
   ]
  },
  {
   "cell_type": "code",
   "execution_count": 1,
   "id": "supposed-headquarters",
   "metadata": {},
   "outputs": [
    {
     "name": "stdout",
     "output_type": "stream",
     "text": [
      "Python       3.8.1\n",
      "Numpy        1.21.6\n",
      "Pandas       1.3.5\n",
      "Matplotlib   3.6.2\n"
     ]
    }
   ],
   "source": [
    "# Standard imports\n",
    "import os\n",
    "import sys\n",
    "import warnings\n",
    "from jinja2 import Template\n",
    "from pathlib import Path\n",
    "from typing import Optional\n",
    "\n",
    "# 3rd party imports\n",
    "import matplotlib as mpl\n",
    "import matplotlib.pyplot as plt\n",
    "import numpy as np\n",
    "import pandas as pd\n",
    "\n",
    "# Own imports\n",
    "from log_sorting.config import load_config\n",
    "from log_sorting.constants import (\n",
    "    CONFIG_DIR,\n",
    "    CONFIG_FILES,\n",
    "    CROSS_JOIN_COL,\n",
    "    CSV_EXTENSION,\n",
    "    DATA_DIR,\n",
    "    DATE_COL,\n",
    "    DESIRED_COL,\n",
    "    DIAMETER_COL,\n",
    "    DIAMETER_GROUP_COL,\n",
    "    LENGTH_COL,\n",
    "    LOT_ID_COL,\n",
    "    SPECIES_COL,\n",
    "    SQL_DIR,\n",
    ")\n",
    "from log_sorting.db_utils import load_sql_query, read_to_pandas\n",
    "from log_sorting.functions import load_and_preprocess_red_sheet\n",
    "\n",
    "# Print out version numbers\n",
    "print('Python       ' + sys.version[0:5])\n",
    "print('Numpy        ' + np.__version__)\n",
    "print('Pandas       ' + pd.__version__)\n",
    "print('Matplotlib   ' + mpl.__version__)\n",
    "\n",
    "# Supress warnings\n",
    "warnings.filterwarnings('ignore')"
   ]
  },
  {
   "cell_type": "markdown",
   "id": "aa45ba44",
   "metadata": {},
   "source": [
    "## II. Run"
   ]
  },
  {
   "cell_type": "code",
   "execution_count": 17,
   "id": "67012b6d",
   "metadata": {},
   "outputs": [],
   "source": [
    "# Load config\n",
    "config = load_config(CONFIG_FILES, CONFIG_DIR)\n",
    "\n",
    "# Load red sheet\n",
    "\n",
    "red_sheet, query_config = load_and_preprocess_red_sheet(\n",
    "    file_name=config.file_names.red_sheet,\n",
    "    file_dir=DATA_DIR,\n",
    ")\n",
    "\n",
    "# Make sql query\n",
    "q = load_sql_query(\"log-sorting-daily\", SQL_DIR)\n",
    "prepped_query = Template(q).render(\n",
    "    species=config.sql.species,\n",
    "    start_date=config.sql.start_date,\n",
    "    end_date=config.sql.end_date,\n",
    "    diameter_groups=query_config,\n",
    ")\n",
    "\n",
    "# Read from database\n",
    "sql_df = read_to_pandas(config.database.mapptvr, prepped_query)"
   ]
  },
  {
   "cell_type": "code",
   "execution_count": 22,
   "id": "51b8a197",
   "metadata": {},
   "outputs": [],
   "source": [
    "# Create base data: All combinations of\n",
    "#   - 'species'\n",
    "#   - 'date'\n",
    "#   - 'lot_id'\n",
    "#   - 'diameter_group'\n",
    "#   - 'length'\n",
    "base_df = sql_df[[SPECIES_COL, DATE_COL, LOT_ID_COL]].drop_duplicates()\n",
    "base_df[CROSS_JOIN_COL] = 0\n",
    "diameter_groups_lengths = sql_df[[DIAMETER_GROUP_COL, LENGTH_COL]].drop_duplicates()\n",
    "diameter_groups_lengths[CROSS_JOIN_COL] = 0\n",
    "sort_cols = [\n",
    "    SPECIES_COL,\n",
    "    DATE_COL,\n",
    "    LOT_ID_COL,\n",
    "    DIAMETER_GROUP_COL,\n",
    "    LENGTH_COL,\n",
    "]\n",
    "base_df = (\n",
    "    base_df\n",
    "    .merge(\n",
    "        right=diameter_groups_lengths,\n",
    "        on=CROSS_JOIN_COL,\n",
    "        how=\"outer\",\n",
    "        validate=\"m:m\",\n",
    "    )\n",
    "    .sort_values(sort_cols)\n",
    "    .drop(columns=[CROSS_JOIN_COL])\n",
    ")\n",
    "# Merge with results & red sheet data\n",
    "df = (\n",
    "    base_df\n",
    "    .merge(\n",
    "        right=sql_df,\n",
    "        on=[\n",
    "            SPECIES_COL,\n",
    "            DATE_COL,\n",
    "            LOT_ID_COL,\n",
    "            DIAMETER_GROUP_COL,\n",
    "            LENGTH_COL,\n",
    "        ],\n",
    "        how=\"left\",\n",
    "        validate=\"1:1\",\n",
    "    )\n",
    "    .astype({LENGTH_COL: float})\n",
    "    .merge(\n",
    "        right=red_sheet,\n",
    "        on=[DIAMETER_GROUP_COL, LENGTH_COL],\n",
    "        how=\"inner\",\n",
    "        validate=\"m:1\",\n",
    "    )\n",
    "    .fillna(0)\n",
    ")"
   ]
  },
  {
   "cell_type": "code",
   "execution_count": 23,
   "id": "fc12caa1",
   "metadata": {},
   "outputs": [
    {
     "name": "stdout",
     "output_type": "stream",
     "text": [
      "sql_df:  (75023, 7)\n",
      "base_df:  (133488, 5)\n",
      "temp_df:  (133488, 7)\n",
      "df:  (133488, 8)\n"
     ]
    }
   ],
   "source": [
    "print(\"sql_df: \", sql_df.shape)\n",
    "print(\"base_df: \", base_df.shape)\n",
    "print(\"temp_df: \", temp_df.shape)\n",
    "print(\"df: \", df.shape)"
   ]
  },
  {
   "cell_type": "code",
   "execution_count": null,
   "id": "8d78a279",
   "metadata": {},
   "outputs": [],
   "source": []
  }
 ],
 "metadata": {
  "kernelspec": {
   "display_name": "Python 3 (ipykernel)",
   "language": "python",
   "name": "python3"
  },
  "language_info": {
   "codemirror_mode": {
    "name": "ipython",
    "version": 3
   },
   "file_extension": ".py",
   "mimetype": "text/x-python",
   "name": "python",
   "nbconvert_exporter": "python",
   "pygments_lexer": "ipython3",
   "version": "3.8.16"
  }
 },
 "nbformat": 4,
 "nbformat_minor": 5
}
